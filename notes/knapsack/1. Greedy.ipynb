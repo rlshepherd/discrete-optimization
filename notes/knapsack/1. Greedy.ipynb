{
 "cells": [
  {
   "cell_type": "markdown",
   "id": "849500da-f8b8-4bec-a73e-8248a47ff1c9",
   "metadata": {},
   "source": [
    "# Knapsack Problem in Julia\n",
    "A notebook showing how to implement some approaches to solving the knapsack problem in Julia. "
   ]
  },
  {
   "cell_type": "markdown",
   "id": "7a8be359-8755-4609-a39b-0e2c9a5617c2",
   "metadata": {},
   "source": [
    "## The Problem\n",
    "Given a set of item $I$ , each item $i \\in I$ characterized by:\n",
    "* its weight $w_i$\n",
    "* its value $v_i$  \n",
    "\n",
    "and\n",
    "\n",
    "* a capaciy $K$ for a knapsack\n",
    "\n",
    "find the subset of items in $I$\n",
    "* that has maximum value \n",
    "* does not exceed the capacity of the knapsack"
   ]
  },
  {
   "cell_type": "markdown",
   "id": "4ea7c01e-dcc1-4892-8000-b9c87a7b778c",
   "metadata": {
    "tags": []
   },
   "source": [
    "## Modeling the knapsack problem\n",
    "\n",
    "maxmize $$\\sum_{i \\in I} v_i x_i$$\n",
    "\n",
    "subject to $$\\sum_{i \\in I} w_i x_i \\leq K$$\n",
    "           $$x_i \\in \\{0,1\\}$$ $$(i \\in I)$$"
   ]
  },
  {
   "cell_type": "code",
   "execution_count": 33,
   "id": "3117f107-633b-4af0-b589-dda4f5528b8a",
   "metadata": {},
   "outputs": [
    {
     "data": {
      "text/plain": [
       "7-element Vector{Tuple{Int64, Int64}}:\n",
       " (1, 2)\n",
       " (1, 2)\n",
       " (1, 2)\n",
       " (10, 5)\n",
       " (10, 5)\n",
       " (13, 8)\n",
       " (7, 3)"
      ]
     },
     "execution_count": 33,
     "metadata": {},
     "output_type": "execute_result"
    }
   ],
   "source": [
    "# list of items (v, w)\n",
    "I = [\n",
    "    (1,2),\n",
    "    (1,2),\n",
    "    (1,2),\n",
    "    (10,5),\n",
    "    (10,5),\n",
    "    (13,8),\n",
    "    (7,3)]"
   ]
  },
  {
   "cell_type": "code",
   "execution_count": 34,
   "id": "7d3e6d29-d7cc-451b-b294-7ee0e88ec117",
   "metadata": {},
   "outputs": [
    {
     "data": {
      "text/plain": [
       "10"
      ]
     },
     "execution_count": 34,
     "metadata": {},
     "output_type": "execute_result"
    }
   ],
   "source": [
    "# Capacity of knapsack\n",
    "K = 10"
   ]
  },
  {
   "cell_type": "markdown",
   "id": "40b624d8-ca53-4254-ae24-988e1c973432",
   "metadata": {},
   "source": [
    "## Greedy Algorithm"
   ]
  },
  {
   "cell_type": "markdown",
   "id": "87473576-cbb9-4308-83d0-7720ac4c312c",
   "metadata": {},
   "source": [
    "Take items one at a time according to some order, until we can no longer pick. "
   ]
  },
  {
   "cell_type": "code",
   "execution_count": 35,
   "id": "0d0f8f3d-7276-43fe-8a99-89c78d9a2aae",
   "metadata": {},
   "outputs": [
    {
     "data": {
      "text/plain": [
       "greedy_knapsack (generic function with 1 method)"
      ]
     },
     "execution_count": 35,
     "metadata": {},
     "output_type": "execute_result"
    }
   ],
   "source": [
    "function greedy_knapsack(I, K)\n",
    "    k = 0\n",
    "    v = 0\n",
    "    for i in I\n",
    "        if (k + i[2] <= K)\n",
    "            v += i[1]\n",
    "            k += i[2]\n",
    "        end\n",
    "    end\n",
    "    return (k, v)\n",
    "end"
   ]
  },
  {
   "cell_type": "markdown",
   "id": "08fccd23-c560-42a6-8d45-85c0933ba931",
   "metadata": {},
   "source": [
    "### Idea 1: more items (\\$10)\n",
    "More items is best, start with small ones and take as many as you can. "
   ]
  },
  {
   "cell_type": "code",
   "execution_count": 36,
   "id": "98653b0d-0b94-4ae0-b512-e05608aec7e0",
   "metadata": {},
   "outputs": [
    {
     "data": {
      "text/plain": [
       "(9, 10)"
      ]
     },
     "execution_count": 36,
     "metadata": {},
     "output_type": "execute_result"
    }
   ],
   "source": [
    "greedy_knapsack(sort(I, lt = (x,y) -> x[2] < y[2]), K)"
   ]
  },
  {
   "cell_type": "markdown",
   "id": "f947e696-729b-4bbc-8ff2-ea493ed5a2fa",
   "metadata": {},
   "source": [
    "### Idea 2: priciest items (\\$14)\n",
    "Valueable items are best, start with the most valuable items."
   ]
  },
  {
   "cell_type": "code",
   "execution_count": 37,
   "id": "fb4d2b05-b6da-45a4-8797-c55c4667be91",
   "metadata": {},
   "outputs": [
    {
     "data": {
      "text/plain": [
       "(10, 14)"
      ]
     },
     "execution_count": 37,
     "metadata": {},
     "output_type": "execute_result"
    }
   ],
   "source": [
    "greedy_knapsack(sort(I, lt = (x,y) -> x[1] > y[1]), K)"
   ]
  },
  {
   "cell_type": "markdown",
   "id": "3f342d12-9da0-4155-8ca0-a7c907a4a0d6",
   "metadata": {},
   "source": [
    "### Idea 3: value density (\\$18)\n",
    "Items that have the highest value per weight unit are best, start with those. "
   ]
  },
  {
   "cell_type": "code",
   "execution_count": 38,
   "id": "a75e286a-40cc-4788-b397-b196ca252518",
   "metadata": {},
   "outputs": [
    {
     "data": {
      "text/plain": [
       "(10, 18)"
      ]
     },
     "execution_count": 38,
     "metadata": {},
     "output_type": "execute_result"
    }
   ],
   "source": [
    "greedy_knapsack(sort(I, lt = (x,y) -> (x[1]/x[2]) > (y[1]/y[2])), K)"
   ]
  },
  {
   "cell_type": "markdown",
   "id": "3b692b5d-fb82-457a-ac96-77cb8e39b67f",
   "metadata": {},
   "source": [
    "There are many ways to set up a greedy algorithm, be creative with sorting function. \n",
    "\n",
    "Greedy algorithms are quick to design and implement. Can be very fast.\n",
    "\n",
    "No quality guarantees (in general), quality can vary widely on the input, problem feasibility needs to be \"easy\". \n",
    "\n",
    "Useful for giving an idea of the difficulty of the problem. Easy to start with a greey algorithm to get an idea of the problem and get a baseline. Then apply some more advanced techniques to improve on it."
   ]
  },
  {
   "cell_type": "code",
   "execution_count": null,
   "id": "ce20c5ee-50b2-4835-8b76-2a1ed909b129",
   "metadata": {},
   "outputs": [],
   "source": []
  }
 ],
 "metadata": {
  "kernelspec": {
   "display_name": "Julia 1.6.2",
   "language": "julia",
   "name": "julia-1.6"
  },
  "language_info": {
   "file_extension": ".jl",
   "mimetype": "application/julia",
   "name": "julia",
   "version": "1.6.2"
  }
 },
 "nbformat": 4,
 "nbformat_minor": 5
}
