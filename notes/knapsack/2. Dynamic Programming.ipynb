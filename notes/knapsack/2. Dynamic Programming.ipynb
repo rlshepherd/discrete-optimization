{
 "cells": [
  {
   "cell_type": "markdown",
   "id": "3c30fc69-2aea-4d86-9653-929bcaf8f9e8",
   "metadata": {},
   "source": [
    "# The Dynamic Programming Approach to the Knapsack Problem in Julia"
   ]
  },
  {
   "cell_type": "markdown",
   "id": "76ce3ff6-ca11-4e26-83d9-577e4ba1d495",
   "metadata": {
    "tags": []
   },
   "source": [
    "## The Knapsack Problem\n",
    "Given a set of item $I$ , each item $i \\in I$ characterized by:\n",
    "* its weight $w_i$\n",
    "* its value $v_i$  \n",
    "\n",
    "and\n",
    "\n",
    "* a capaciy $K$ for a knapsack\n",
    "\n",
    "find the subset of items in $I$\n",
    "* that has maximum value \n",
    "* does not exceed the capacity of the knapsack"
   ]
  },
  {
   "cell_type": "markdown",
   "id": "81b9ff9a-5345-4dd0-9162-337e09d632ea",
   "metadata": {},
   "source": [
    "## Dynamic Programming"
   ]
  },
  {
   "cell_type": "markdown",
   "id": "5f3d60d0-2277-4fa7-a6b8-d5135fd72587",
   "metadata": {},
   "source": [
    "Dynamic programming is:\n",
    "* widely use optimization technique\n",
    "* works for certain classes of problems very well (computational biology), but not for others.\n",
    "\n",
    "\n",
    "Basic principles:\n",
    "* divide and conquer\n",
    "* bottom-up technique\n",
    "\n",
    "Conventions needed for the dynamic programming approach to the knapsack problem:\n",
    "* assume that $I = \\{1,2,...,n\\}$\n",
    "* $O(k,j)$ denotes the optimal solution to the knapsack problem with capacity $k$ and items $[1..j]$\n",
    "\n",
    "These conventions let us break down the problem into subproblems."
   ]
  },
  {
   "cell_type": "markdown",
   "id": "281fe021-48a9-4f92-bff9-5ab27af1edee",
   "metadata": {},
   "source": [
    "## Model\n",
    "The dynamic programming model is a very similar to the greedy model, but has a slight change that lets us break it down into subproblems.\n",
    "\n",
    "Maximize\n",
    "$$\\sum_{i \\in 1..j}v_i x_i$$\n",
    "\n",
    "subject to\n",
    "$$\\sum_{i \\in 1..j} w_i x_i \\leq k$$\n",
    "$$x_i \\in \\{0,1\\} (i \\in 1..j)$$\n"
   ]
  },
  {
   "cell_type": "markdown",
   "id": "6540ddc5-e294-4af6-9a77-4a9aa61ebcad",
   "metadata": {},
   "source": [
    "## Why dynamic programming? \n",
    "\n",
    "Dynamic programming is much faster than the naive recursive solution. To see this, first consider the recursive, top-down approach:\n",
    "* Assume we know how to solve $O(k,j-1)$ for all k in 0..K\n",
    "* We want to solve O(k,j). We are just considering one more item, i.e., item j.\n",
    "* If $w_j \\leq k$ , there are two cases:\n",
    "  * Either we do not select item j, then the best solution we can obtain is $O(k, k-1)$\n",
    "  * Or we select item j and the best solution is $v_j + O(k-w_j,j-1)$\n",
    "* In summary:\n",
    "  * $O(k,j) = max(O(k,j-1), v_j + O(k-w_j, j-1))$ if $w_j \\leq k$\n",
    "  * $O(k,j) = O(k, j-1)$ otherwise\n",
    "* Base case:\n",
    "  * $O(k,0) = 0$ for all k"
   ]
  },
  {
   "cell_type": "code",
   "execution_count": 5,
   "id": "56cecd95-11c5-4b8e-8099-7fdda399e6dc",
   "metadata": {},
   "outputs": [
    {
     "data": {
      "text/plain": [
       "O (generic function with 1 method)"
      ]
     },
     "execution_count": 5,
     "metadata": {},
     "output_type": "execute_result"
    }
   ],
   "source": [
    "function O(k, j)\n",
    "    if (j == 0)\n",
    "        return 0\n",
    "    elseif (I[j][2] <= k)\n",
    "        return max(\n",
    "                O(k,j-1), \n",
    "                I[j][1] + O(k-I[j][2], j-1)\n",
    "            )\n",
    "    else \n",
    "        return O(k,j-1)\n",
    "    end\n",
    "end"
   ]
  },
  {
   "cell_type": "markdown",
   "id": "75b4f94d-dc3e-4b43-8a50-2dc3de8f603b",
   "metadata": {},
   "source": [
    "The problem with this approach is it makes $2^{|I|}$ function calls, as it recursively re-solves the same subproblems multiple times. "
   ]
  },
  {
   "cell_type": "markdown",
   "id": "0d754240-816a-4686-b528-3c058edaccaf",
   "metadata": {},
   "source": [
    "## Visualizing Dynamic Programming \n",
    "Dynamic programming will allow us to conver the top-down recursive method into a bottom-up iterative method, saving the solutions of the sub-problems as we go in a matrix, and using those to solve subsequent sub-problems until we reach the final answer.\n",
    "\n",
    "It is useful to use a table to visualize this approach. \n",
    "\n",
    "Consider a case where we have a list of only 3 items, $I$, and a knapsack of capacity 9, $K$:"
   ]
  },
  {
   "cell_type": "code",
   "execution_count": 3,
   "id": "adebb6bb-98d9-4bcb-a284-21cef696da1a",
   "metadata": {},
   "outputs": [
    {
     "data": {
      "text/plain": [
       "9"
      ]
     },
     "execution_count": 3,
     "metadata": {},
     "output_type": "execute_result"
    }
   ],
   "source": [
    "I = [(5,4),\n",
    "     (6,5),\n",
    "     (3,2)]\n",
    "K = 9"
   ]
  },
  {
   "cell_type": "markdown",
   "id": "3f4debd5-a326-4500-a594-a63cfcae8457",
   "metadata": {},
   "source": [
    "We need somewhere to store the answers to our subproblems. Let's initialize a matrix of size (I+1, K+1) to save the answers to our subproblems in."
   ]
  },
  {
   "cell_type": "code",
   "execution_count": 57,
   "id": "f9f5bfbc-348e-45b2-974a-a6e7365891f2",
   "metadata": {},
   "outputs": [
    {
     "data": {
      "text/plain": [
       "4×10 Matrix{Int8}:\n",
       " 0  0  0  0  0  0  0  0  0  0\n",
       " 0  0  0  0  0  0  0  0  0  0\n",
       " 0  0  0  0  0  0  0  0  0  0\n",
       " 0  0  0  0  0  0  0  0  0  0"
      ]
     },
     "execution_count": 57,
     "metadata": {},
     "output_type": "execute_result"
    }
   ],
   "source": [
    "M = zeros(Int8, length(I)+1, K+1)"
   ]
  },
  {
   "cell_type": "markdown",
   "id": "f1770f1d-a154-4ca4-81e7-d6609fca5c77",
   "metadata": {},
   "source": [
    "Each row in this matrix corresponds to an item in the list. \n",
    "Each column in this matrix corresponds to a certain capacity. \n",
    "\n",
    "The first row corresponds to the base case for items (no item), and the first column corresponds to base case for capacity (0 capacity). That is why we it is an n+1 size matrix in each dimension. (Also, when we access our item weights and values, we will need to use n-1). \n",
    "\n",
    "The value of the cell will hold the answer the particular subproblem $O(k,j)$"
   ]
  },
  {
   "cell_type": "markdown",
   "id": "7231f399-8f7f-4f2e-8e24-3ce366736b18",
   "metadata": {},
   "source": [
    "Since we will be iterating over this matrix and using it's indices to access our weights and values, we need to split our items list $I$ into two vectors $v$ and $w$:"
   ]
  },
  {
   "cell_type": "code",
   "execution_count": 86,
   "id": "a8ed4ec7-e5ed-46ad-9b6c-f51d7d06c9f0",
   "metadata": {},
   "outputs": [
    {
     "data": {
      "text/plain": [
       "([5, 6, 3], [4, 5, 2])"
      ]
     },
     "execution_count": 86,
     "metadata": {},
     "output_type": "execute_result"
    }
   ],
   "source": [
    "unzip(a) = map(x->getfield.(a, x), fieldnames(eltype(a)))\n",
    "v, w = unzip(I)"
   ]
  },
  {
   "cell_type": "code",
   "execution_count": 91,
   "id": "fc86ed8f-7e84-4691-8e98-8c45015f3fb1",
   "metadata": {},
   "outputs": [
    {
     "data": {
      "text/plain": [
       "4×10 Matrix{Int8}:\n",
       " 0  0  0  0  0  0  0  0  0   0\n",
       " 0  0  0  0  5  5  5  5  5   5\n",
       " 0  0  0  0  5  6  6  6  6  11\n",
       " 0  0  3  3  5  6  8  9  9  11"
      ]
     },
     "execution_count": 91,
     "metadata": {},
     "output_type": "execute_result"
    }
   ],
   "source": [
    "for (i, row) in enumerate(eachrow(M))\n",
    "    for (j, col) in enumerate(eachcol(M))\n",
    "        if i == 1 || j == 1\n",
    "            M[i,j] = 0\n",
    "        elseif w[i-1] > j - 1 # j - 1 because julia is 1-indexed.\n",
    "            M[i,j] = M[i-1,j]\n",
    "        else\n",
    "            M[i,j] = maximum([\n",
    "                    M[i-1,j],\n",
    "                    v[i-1] + M[i-1,j - w[i-1]]\n",
    "                    ])\n",
    "        end\n",
    "    end\n",
    "end\n",
    "M"
   ]
  },
  {
   "cell_type": "markdown",
   "id": "57f7ae93-2d54-4fd3-890e-f6b44a65f3ae",
   "metadata": {},
   "source": [
    "The total value of the optimal solution is found in the lower right hand corner of the table. The optimal solution can be found by comparing the last value in each row. Here we generate a vector $x_i$ of decision variabels:"
   ]
  },
  {
   "cell_type": "code",
   "execution_count": 117,
   "id": "676b6d0f-934b-4a95-84ab-5bc4eb5b3b56",
   "metadata": {},
   "outputs": [
    {
     "data": {
      "text/plain": [
       "3-element Vector{Int8}:\n",
       " 1\n",
       " 1\n",
       " 0"
      ]
     },
     "execution_count": 117,
     "metadata": {},
     "output_type": "execute_result"
    }
   ],
   "source": [
    "j = size(M)[2]\n",
    "x = zeros(Int8, size(M)[1]-1)\n",
    "for i = 1:size(M)[1]-1\n",
    "    if M[i,j] != M[i+1,j]\n",
    "        x[i] = 1\n",
    "    end\n",
    "end\n",
    "x"
   ]
  },
  {
   "cell_type": "markdown",
   "id": "cc5d7f3e-2c12-4949-ba47-41e798a0f5a9",
   "metadata": {},
   "source": [
    "## Examples\n",
    "Now that we have a complete dynamic programming approach to the knapsack problem, we can do a few exampes."
   ]
  },
  {
   "cell_type": "code",
   "execution_count": 1,
   "id": "78e0fe05-529f-48ea-a349-11f4c2a33c07",
   "metadata": {},
   "outputs": [
    {
     "data": {
      "text/plain": [
       "dpksp (generic function with 1 method)"
      ]
     },
     "execution_count": 1,
     "metadata": {},
     "output_type": "execute_result"
    }
   ],
   "source": [
    "function dpksp(I, K)\n",
    "    unzip(a) = map(x->getfield.(a, x), fieldnames(eltype(a)))\n",
    "    v, w = unzip(I)\n",
    "    n, k = length(I)+1, K+1\n",
    "    \n",
    "    M = zeros(Int, n, k)\n",
    "    \n",
    "    for i = 1:n\n",
    "        for j = 1:k\n",
    "            if i == 1 || j == 1\n",
    "                M[i,j] = 0\n",
    "            elseif w[i-1] > j - 1 # j - 1 because julia is 1-indexed.\n",
    "                M[i,j] = M[i-1,j]\n",
    "            else\n",
    "                M[i,j] = maximum([\n",
    "                        M[i-1,j],\n",
    "                        v[i-1] + M[i-1,j - w[i-1]]\n",
    "                        ])\n",
    "            end\n",
    "        end\n",
    "    end\n",
    "    \n",
    "    x = zeros(Int, n-1)\n",
    "    for i = 1:n-1\n",
    "        if M[i,k] != M[i+1,k]\n",
    "            x[i] = 1\n",
    "        end\n",
    "    end\n",
    "    \n",
    "    return M[n,k], x\n",
    "end"
   ]
  },
  {
   "cell_type": "markdown",
   "id": "3d39a9bc-297d-4929-981d-78791d0ad707",
   "metadata": {},
   "source": [
    "Here is our original setup just to confirm the new function works:"
   ]
  },
  {
   "cell_type": "code",
   "execution_count": 4,
   "id": "92ceb8cd-955d-449b-957c-92b72eec9662",
   "metadata": {},
   "outputs": [
    {
     "data": {
      "text/plain": [
       "(11, [1, 1, 0])"
      ]
     },
     "execution_count": 4,
     "metadata": {},
     "output_type": "execute_result"
    }
   ],
   "source": [
    "dpksp(I,K)"
   ]
  },
  {
   "cell_type": "markdown",
   "id": "b47e29b0-aa6f-45fe-97fd-895a478797bb",
   "metadata": {},
   "source": [
    "Here is an additional problem where we know the maximum value is 44 already:"
   ]
  },
  {
   "cell_type": "code",
   "execution_count": 133,
   "id": "304b9e99-f365-4243-a96f-46ea64377ca1",
   "metadata": {},
   "outputs": [
    {
     "data": {
      "text/plain": [
       "(Int8[1, 1, 1, 1], 44)"
      ]
     },
     "execution_count": 133,
     "metadata": {},
     "output_type": "execute_result"
    }
   ],
   "source": [
    "I2 = [(16,2),\n",
    "      (19,3),\n",
    "      (23,4),\n",
    "      (28,5)]\n",
    "K2 = 7\n",
    "dpksp(I2,K2)"
   ]
  },
  {
   "cell_type": "markdown",
   "id": "5dcdbfff-7edf-464c-b500-bb552e6b8591",
   "metadata": {},
   "source": [
    "## Complexity of dynamic programming\n",
    "The time complexity of this algorithm is the time is takes to fill the table, so $O(K*|I|)$, which is  O(n)! \n",
    "\n",
    "This is not polynomial however, because the storage is big (log(K) bits). It is a psuedo-polynomial algorithm, meaning it is polynomial for low K. "
   ]
  }
 ],
 "metadata": {
  "kernelspec": {
   "display_name": "Julia 1.6.2",
   "language": "julia",
   "name": "julia-1.6"
  },
  "language_info": {
   "file_extension": ".jl",
   "mimetype": "application/julia",
   "name": "julia",
   "version": "1.6.2"
  }
 },
 "nbformat": 4,
 "nbformat_minor": 5
}
